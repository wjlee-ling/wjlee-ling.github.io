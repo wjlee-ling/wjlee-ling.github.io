{
 "cells": [
  {
   "cell_type": "markdown",
   "metadata": {},
   "source": [
    "# pytorch 연산 적용 차원(dimension) 이해\n",
    "> torch.sum / torch.gather로 알아보기\n",
    "\n",
    "- toc: true\n",
    "- badges: true\n",
    "- comments: true\n",
    "- categories: [TIL]\n",
    "- date: 2022-09-26"
   ]
  },
  {
   "cell_type": "markdown",
   "metadata": {},
   "source": [
    "Pandas나 Pytorch에서는 연산을 적용할 차원(dimension)을 명시해야 하는 함수들이 있다. 그런데 차원을 잘못 명시해 에러가 나거나, (최악의 경우) 잘못된 결과를 얻어놓고 넘어가는 경우가 왕왕 있다.\n",
    "\n",
    "> Note: pytorch에서는 dimension이지만 pandas에서는 axis이다. \n",
    "\n",
    "흔히 행별(row-wise) 연산의 index는 0, 열별(column-wise)의 그것은 1이라고 한다. 그런데 (3,4)의 shape을 가진 행렬 X의 **행별**합계를 `torch.sum(X, dim=0)`로 구하면 크기가 3이 아닌 4인 텐서, 즉 **열별** 합계를 구한다."
   ]
  },
  {
   "cell_type": "code",
   "execution_count": 14,
   "metadata": {},
   "outputs": [
    {
     "data": {
      "text/plain": [
       "tensor([[ 1.0106, -0.3721,  0.2047, -1.1160],\n",
       "        [ 1.4246, -0.3156,  0.6755, -0.4762],\n",
       "        [-1.0721, -0.1699,  0.4878, -1.7479]])"
      ]
     },
     "execution_count": 14,
     "metadata": {},
     "output_type": "execute_result"
    }
   ],
   "source": [
    "import torch\n",
    "\n",
    "X = torch.randn([3,4])\n",
    "X"
   ]
  },
  {
   "cell_type": "code",
   "execution_count": 7,
   "metadata": {},
   "outputs": [
    {
     "name": "stdout",
     "output_type": "stream",
     "text": [
      "dim=0 : torch.Size([4]) ::: dim=1 : torch.Size([3])\n"
     ]
    }
   ],
   "source": [
    "# dim = 0, i.e. row-wise\n",
    "row_wise = torch.sum(X, dim=0).shape\n",
    "\n",
    "# dim = 1, i.e. column-wise\n",
    "col_wise = torch.sum(X, dim=1).shape\n",
    "\n",
    "print(f'dim=0 : {row_wise} ::: dim=1 : {col_wise}')"
   ]
  },
  {
   "cell_type": "markdown",
   "metadata": {},
   "source": [
    "#### 차원이 무너지는 경우: dim == 축소되는 차원\n",
    "\n",
    "[torch.sum() 설명](https://pytorch.org/docs/stable/generated/torch.sum.html?highlight=torch%20sum#torch.sum)을 보면 파라미터 `dim`을  \"the dimension or dimensions to reduce\"라고 설명한다. 즉 위 예시에서 크기가 (3,4)인 X를 두고 `torch.sum(X, dim=0)`를 하면 크기가 (3,4)에서 (4)가 되고 `torch.sum(X, dim=1)`를 하면 (3)이 된다.\n",
    "\n",
    "![matrix img](notebooks_images/dim-2d.png)"
   ]
  },
  {
   "cell_type": "markdown",
   "metadata": {},
   "source": [
    "#### 차원이 유지되는 경우: dim?\n",
    "\n",
    "손쉽게 결과적으로 축소되는 축을 dim으로 주면 되는 함수도 있는 반면, 좀 더 고심해야 하는 함수도 있다. 예를 들어 `torch.gather(input, dim, index)`는 주어진 차원과 인덱스에 맞는 input의 원소들을 모아 리턴한다.  \n",
    "\n",
    "[**torch.gather**](https://pytorch.org/docs/stable/generated/torch.gather.html)\n",
    "`torch.gather(input, dim, index)` 함수의 연산을 설명하자면\n",
    "1. `index`의 크기와 `out`의 크기는 동일 \n",
    "2. `input`의 차원과 `index`의 차원은 동일 (e.g. 3차원 인풋이면 인덱스도 3차원으로)\n",
    "3. `index`의 값은 `input`의 `dim`차원에만 영향을 미침. \n",
    "\n",
    "예를 들어 `input`이 2차원 행렬이고, dim = 0 일 때: 우선 out[i][j] = input[?][j]이다 (1차원, 즉 j 값은 `index`와 무관하게 동일). 물음표에 해당하는 0차원 index는 주어진 `index`의 (i,j) 원소이다.  \n",
    "\n"
   ]
  },
  {
   "cell_type": "code",
   "execution_count": 25,
   "metadata": {},
   "outputs": [
    {
     "data": {
      "text/plain": [
       "tensor([[4., 2.],\n",
       "        [7., 5.]])"
      ]
     },
     "execution_count": 25,
     "metadata": {},
     "output_type": "execute_result"
    }
   ],
   "source": [
    "# e.g.1 dim=0\n",
    "X = torch.Tensor([[1, 2, 3],\n",
    "                  [4, 5, 6],\n",
    "                  [7, 8, 9]])\n",
    "index = torch.tensor([[1,0],\n",
    "                      [2,1]])\n",
    "out_dim_0 = torch.gather(X, dim=0, index=index)\n",
    "out_dim_0\n"
   ]
  },
  {
   "cell_type": "markdown",
   "metadata": {},
   "source": [
    "\n",
    "![img1](notebooks_images/dim-1.png)\n",
    "![img2](notebooks_images/dim-2.png)\n",
    "![img3](notebooks_images/dim-3.png)\n"
   ]
  },
  {
   "cell_type": "code",
   "execution_count": 28,
   "metadata": {},
   "outputs": [
    {
     "data": {
      "text/plain": [
       "tensor([[2., 1.],\n",
       "        [6., 5.]])"
      ]
     },
     "execution_count": 28,
     "metadata": {},
     "output_type": "execute_result"
    }
   ],
   "source": [
    "# e.g.2 dim=1\n",
    "out_dim_1 = torch.gather(X, dim=1, index=index)\n",
    "out_dim_1"
   ]
  },
  {
   "cell_type": "markdown",
   "metadata": {},
   "source": [
    "![img4](notebooks_images/dim-4.png)\n",
    "![img5](notebooks_images/dim-5.png)\n",
    "![img6](notebooks_images/dim-6.png)"
   ]
  }
 ],
 "metadata": {
  "kernelspec": {
   "display_name": "Python 3.8.10 ('.venv')",
   "language": "python",
   "name": "python3"
  },
  "language_info": {
   "codemirror_mode": {
    "name": "ipython",
    "version": 3
   },
   "file_extension": ".py",
   "mimetype": "text/x-python",
   "name": "python",
   "nbconvert_exporter": "python",
   "pygments_lexer": "ipython3",
   "version": "3.8.10"
  },
  "orig_nbformat": 4,
  "vscode": {
   "interpreter": {
    "hash": "5bebc21204ab4a130559607128dfa87d7088e010f5924ba041b3803c15c5db1e"
   }
  }
 },
 "nbformat": 4,
 "nbformat_minor": 2
}
